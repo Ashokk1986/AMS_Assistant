{
 "cells": [
  {
   "cell_type": "code",
   "execution_count": 133,
   "metadata": {},
   "outputs": [],
   "source": [
    "## Import libraries\n",
    "import os\n",
    "import json\n",
    "import pandas as pd\n",
    "import traceback\n",
    "from typing import Union\n",
    "from langchain_community.document_loaders import PyPDFLoader\n",
    "from langchain_community.document_loaders.csv_loader import CSVLoader\n",
    "from langchain_community.document_loaders import AzureAIDocumentIntelligenceLoader\n",
    "from langchain_openai import ChatOpenAI\n",
    "from langchain.embeddings.openai import OpenAIEmbeddings\n",
    "from langchain.text_splitter import RecursiveCharacterTextSplitter\n",
    "from langchain.text_splitter import CharacterTextSplitter\n",
    "from langchain.vectorstores import Pinecone\n",
    "from langchain_pinecone import PineconeVectorStore\n",
    "from pinecone import Pinecone\n",
    "from langchain_openai import OpenAIEmbeddings\n",
    "from langchain_core.prompts import ChatPromptTemplate\n",
    "from langchain.chains.question_answering import load_qa_chain\n",
    "from langchain.chains import create_retrieval_chain\n",
    "from langchain.chains.combine_documents import create_stuff_documents_chain\n",
    "from langchain.chains import LLMChain\n",
    "from langchain.chains import SequentialChain\n",
    "from dotenv import load_dotenv"
   ]
  },
  {
   "cell_type": "code",
   "execution_count": 113,
   "metadata": {},
   "outputs": [],
   "source": [
    "## Read variables from from env file\n",
    "load_dotenv()  \n",
    "OPENAI_KEY=os.getenv(\"OPENAI_API_KEY\")\n",
    "PINECONE_API_KEY=os.getenv(\"PINECONE_API_KEY\")\n",
    "PINECONE_INDEX=os.getenv(\"PINECONE_INDEX_NAME\")\n",
    "AZURE_API_KEY1=os.getenv(\"AZURE_KEY1\")\n",
    "AZURE_API_KEY2=os.getenv(\"AZURE_KEY2\")\n",
    "AZURE_API_ENDPOINT=os.getenv(\"AZURE_ENDPOINT\")"
   ]
  },
  {
   "cell_type": "markdown",
   "metadata": {},
   "source": [
    "### Step 1: Read Source Data Files, Data Cleaning, Splitting to chunks, Convert and Store it in Vector Database\n",
    "\n",
    "\n",
    "Data Source 1: Interface Functional Specification Document (PDF)\n",
    "\n",
    "Data Source 2: Interface Data Flow (PDF)\n",
    "\n",
    "Data Source 3: Production Support Issues & Resolutions (CSV)\n",
    "\n",
    "Data Source 4: Interface Mapping Sheet (XLSX)\n",
    "\n",
    "Data Source 5: Interface Architecture, Failure Modes & Error Handling Mechanism (PPTX)"
   ]
  },
  {
   "cell_type": "code",
   "execution_count": 123,
   "metadata": {},
   "outputs": [],
   "source": [
    "## Folder Path for Data Source Files\n",
    "SOURCE_FILES_PATH=\"C:\\\\Users\\\\ASHOKKUMAR KALIAPPAN\\\\Documents\\\\Ashok\\\\MSc_DataAnalytics\\\\Final_Project\\\\Doc\\\\\""
   ]
  },
  {
   "cell_type": "code",
   "execution_count": 124,
   "metadata": {},
   "outputs": [],
   "source": [
    "## Function for PDF extraction\n",
    "def read_data_from_pdf(FILE_PATH,EXTRACT_IMAGE_INPUT):\n",
    "    loader_dataflow = PyPDFLoader(FILE_PATH, extract_images=EXTRACT_IMAGE_INPUT)\n",
    "    pages_dataflow = loader_dataflow.load()\n",
    "    return pages_dataflow"
   ]
  },
  {
   "cell_type": "code",
   "execution_count": 126,
   "metadata": {},
   "outputs": [],
   "source": [
    "## Function for CSV data extraction\n",
    "def read_data_from_csv(FILE_PATH):\n",
    "    loader_csv = CSVLoader(file_path=FILE_PATH)\n",
    "    data_csv = loader_csv.load()\n",
    "    return data_csv"
   ]
  },
  {
   "cell_type": "code",
   "execution_count": 127,
   "metadata": {},
   "outputs": [],
   "source": [
    "## Function for MS Office docs extraction\n",
    "def read_data_from_msdocs(FILE_PATH):\n",
    "    loader_mso = AzureAIDocumentIntelligenceLoader(\n",
    "        api_endpoint=AZURE_API_ENDPOINT, api_key=AZURE_API_KEY1, file_path=FILE_PATH, api_model=\"prebuilt-layout\"\n",
    "    )\n",
    "    pages_msofficedata= loader_mso.load()\n",
    "    return pages_msofficedata"
   ]
  },
  {
   "cell_type": "code",
   "execution_count": 128,
   "metadata": {},
   "outputs": [
    {
     "data": {
      "text/plain": [
       "[Document(page_content=' \\n                                                           \\n \\n Page 1 of 19  \\n \\n    \\n \\n \\n \\n \\n \\n \\n \\n \\nEngineering  Datahub \\nInterface  \\n \\nFunctional Specification  Document  \\n \\n \\n \\n \\n \\n \\n \\n \\n \\n \\n \\n \\n \\n \\n \\n \\n \\n \\n \\n \\n \\n \\n \\n \\n \\n \\n \\n \\n \\n \\n \\n \\n \\n \\n \\n \\n \\n \\n ', metadata={'source': 'C:\\\\Users\\\\ASHOKKUMAR KALIAPPAN\\\\Documents\\\\Ashok\\\\MSc_DataAnalytics\\\\Final_Project\\\\Doc\\\\Engineering_Datahub_Interface_FSD.pdf', 'page': 0}),\n",
       " Document(page_content='                                                   \\n Engineering  Datahub  Interface - Functional Specification Document  \\n \\n Page 2 of 19  \\nTable of Contents    \\n1. Overview  ................................ ................................ ................................ ................................ .............................  3 \\n2. Objective  ................................ ................................ ................................ ................................ ............................  3 \\n3. Engineering Datahub Interface Use Cases List  ................................ ................................ .............................  3 \\n4. Engineering Datahub Interface Solution Design  ................................ ................................ ............................  3 \\n4.1 Solution Assumptions  ................................ ................................ ................................ ................................ ... 3 \\n4.2 Interface Solution (High Level Process)  ................................ ................................ ................................ ...... 4 \\n4.3 Interface Solution (Detailed)  ................................ ................................ ................................ .........................  5 \\n4.3.1  Release to Engineering Datahub Sub -Process & Interface Validations  ................................ ............  5 \\n4.3.2  Windchill Extraction Process  ................................ ................................ ................................ .................  6 \\n4.3.3  Middleware Data Transformation Rules  ................................ ................................ ................................  8 \\n4.3.4  Engineering Datahub System Update Process  ................................ ................................ ....................  9 \\n4.3.5  Windchill Change Notice Processing after Engineering Datahub Acknowledgement  .....................  9 \\n4.4 Interface Failure Handling and Re -Trigger Mechanism ................................ ................................ ..............  9 \\n5. Interface Special Considerations ................................ ................................ ................................ ...................  10 \\n6. Engineering Datahub Interface Use Cases (Detailed)  ................................ ................................ .................  11 \\n6.1 UC1: Create and Release Part through Change Request and Change Notice process  ........................  11 \\n6.2 UC2: Revise and Release Part with attribute changes through Change Request and Change Notice \\nprocess  12 \\n6.3 UC3: Revise and Obsolete Part through Change Request and Change Notice process  .....................  14 \\n6.4 UC4: Create and Release Assembly with BOM Structure through Change Request and Change Notice \\nprocess  15 \\n6.5 UC5: Revise and Release Assembly with BOM Structure changes (Add Component, Remove \\nComponent or Quantity change) through Change Request and Change Notice process  ..........................  16 \\n6.6 UC6: Revise and Obsolete Assembly through Change Request and Change Notice process  ...........  17 \\n7. Non-Functional Requirements  ................................ ................................ ................................ .......................  18 \\n ', metadata={'source': 'C:\\\\Users\\\\ASHOKKUMAR KALIAPPAN\\\\Documents\\\\Ashok\\\\MSc_DataAnalytics\\\\Final_Project\\\\Doc\\\\Engineering_Datahub_Interface_FSD.pdf', 'page': 1}),\n",
       " Document(page_content='                                                   \\n Engineering  Datahub  Interface - Functional Specification Document  \\n \\n Page 3 of 19 1. Overview  \\n \\nThis Document details the functional specification for the Engineering  Datahub  Interface.  \\n2. Objective  \\nThe principal  objective of this document is to define the functional specification for the Windchill PLM to \\nEngineering Datahub  to share engineering release information . \\n3. Engineering Datahub  Interface Use Cases  List \\nTable 1 Use Cases List – Engineering  Datahub  Interface  \\nUse Case #  Use Case Title  Main Actor  Source \\nSystem  Target \\nSystem  \\nUC1 Create and Release Part through \\nChange Request and Change Notice \\nprocess  Design \\nEngineer  Windchill  PLM Engineering \\nDatahub  \\nUC2 Revise  and Release Part with \\nattribute changes through Change \\nRequest and Change Notice process  Design \\nEngineer  Windchill  PLM Engineering \\nDatahub  \\nUC3 Revise  and Obsolete  Part through \\nChange Request and Change Notice \\nprocess  Design \\nEngineer  Windchill  PLM Engineering \\nDatahub  \\nUC4 Create and Release Assembly with \\nBOM Structure through Change \\nRequest and Change Notice process  Design \\nEngineer  Windchill  PLM Engineering \\nDatahub  \\nUC5 Revise  and Release Assembly with \\nBOM Structure changes (Add \\nComponent, Remove Component or \\nQuantity change) through Change \\nRequest and Change Notice process  Design \\nEngineer  Windchill  PLM Engineering \\nDatahub  \\nUC6 Revise  and Obsolete  Assembly  \\nthrough Change Request and \\nChange Notice process  Design \\nEngineer  Windchill  PLM Engineering \\nDatahub  \\n \\n4. Engineering  Datahub  Interface  Solution Design  \\nWindchill system will be deployed to  manage the Engineering Change and Part / BOM Release processes.  \\nEngineering Release Information will be interfaced from Windchill to Engineering Datahub system  to support \\nthe cross functional needs and carry out downstream processes such as Manufacturing  Planning , Quality \\nand Production execution .   \\nFollowing sections will detail out the functional solution for the Engineering Datahub  interface , \\n4.1 Solution Assumptions  \\n(1) This interface will be applicable to following object types :  \\nPart, Assembly, Part / Assembly Drawing , Engineering Specification  Document  \\n(2) All the new release and revisions to Part, Assembly, Part / Assembly Drawing , Engineering \\nSpecification  Document  will be performed  through Change Notice process only.  \\n(3) Any Admin changes performed on the Part, Assembly, Part / Assembly Drawing , Engineering \\nSpecification  Document will not be interfaced to Engineering Datahub  \\n(4) Historical data migrated from Legacy system to Windchill system is available in Engineering \\nDatahub  ', metadata={'source': 'C:\\\\Users\\\\ASHOKKUMAR KALIAPPAN\\\\Documents\\\\Ashok\\\\MSc_DataAnalytics\\\\Final_Project\\\\Doc\\\\Engineering_Datahub_Interface_FSD.pdf', 'page': 2}),\n",
       " Document(page_content='                                                   \\n Engineering  Datahub  Interface - Functional Specification Document  \\n \\n Page 4 of 19 (5) In case of BOM Structure changes released through Change Notice process, only delta data \\n(Components added, removed or quantity change) will be interfaced to Engineering Datahub, full \\nBOM Structure will not be interfaced.  \\n4.2 Interface Solution (High Level Process)  \\nFollowing objects will be Created, Revised and Released / Obsoleted (Target Promotion State: \\nPending Obsolete) through Engineering Change Management process ( Change Request , Change \\nNotice  & Change Activity).   \\no Part \\no Assembly  \\no Part / Assembly Drawing  \\no Engineering Specification  Document  \\nDesign Engineer  will receive the task ( Change Activity  Assignee task) to create or revise Part, BOM, \\nDrawing, Engineering Specification Document  through  Change Management process. Design \\nEngineer will perform the creation / updating of Engineering data and complete the CA Assignee Task \\nin Windchill.  \\nCA Reviewer will review the Change and approve for further release.  \\nChange Notice Auditor  will complete the Change Notice Audit process and approves the task. \\nResulting Objects will be Released to Target Promotion State. Then, system shall extract the data for \\nEngineering Datahub  Interface.  \\n \\nEngineering Datahub Interface Trigger:  Change Notice Audit  Task Completion  \\n \\nHigh Level Interface Solution : \\n \\n(1) Source system  extraction : Windchill system shall extract and publish the Change Notice \\ninformation to Middleware at a real time after Change Notice Audit Task Completion  \\n(2) Middleware  transformation : Middleware system shall process the Change Notice details published \\nfrom Windchill, transform the data based on the rules detailed in the interface mapping sheet and \\npublish the transformed data to Engineering Datahub  \\n(3) Target system  processing : Engineering Datahub shall process the Change Notice details and \\npublish the processing status (Success / Failure) to Middleware  \\n(4) Handling target system processing status : Middleware will further publish the processing status \\nreceived from Engineering Datahub system to Windchill system. Windchill will process and take \\nnecessary action based on the Engineering Datahub processing status. If the Engineering \\nDatahub processing status is success then Change Notice will be promoted to Released sta tus, \\nbut if the Datahub processing status is failure then Interface failure task will be generated for the \\nWindchill Admin to take necessary actions to fix the issue and retrigger the interface.  \\n \\nChange Notice Extraction in Windchill  \\nInterface process shall extract following data elements from Change Notice  \\no Part \\no Assembly  \\no Part / Assembly Drawing  \\no Engineering Specification Document  \\n \\nThe extracted data shall be transformed and sent to Engineering Datahub  system.  ', metadata={'source': 'C:\\\\Users\\\\ASHOKKUMAR KALIAPPAN\\\\Documents\\\\Ashok\\\\MSc_DataAnalytics\\\\Final_Project\\\\Doc\\\\Engineering_Datahub_Interface_FSD.pdf', 'page': 3}),\n",
       " Document(page_content='                                                   \\n Engineering  Datahub  Interface - Functional Specification Document  \\n \\n Page 5 of 19  \\nProcess & Update Engineering Datahub System  \\nEngineering Datahub  system shall process the information sent by Windchill & share success or failure \\nresponse back to Middleware  which in turn send it back to Windchill.  \\n(1) Success: Update d the Change Notice and related information to Engineering Datahub \\ndatabase  \\n(2) Failure: Send back the failure response with the detailed information on the failure records  \\n \\nDetailed processing of the Engineering Datahub system will be documented in the subsequent section \\nof this document.  \\n \\nChange Notice completion in Windchill  \\nWindchill system shall process the response sent by Engineering Datahub system and shall take one \\nof the following actions,  \\n(1) Success: Promote Change Notice to Released state.  \\n(2) Failure: Create Interface Failure Task for Windchill System Admin and notify change Notice \\nAuditor  on the failure with reason for failures sent by Engineering Datahub system  \\nDetailed processing of the Windchill system will be documented in the subsequent section of the \\ndocument.  \\n4.3 Interface Solution (Detailed)  \\n \\nSource System  Windchill  PLM \\nTarget System  Engineering Datahub  \\nData Exchanged  Engineering Releas e, Part / Assembly, BOM Structure, \\nPart / Assembly and Engineering Specification Document  \\nInterface Type  \\nBatch/Real Time/Manual  \\nSynchronous/Asynchronous  Real Time : Extraction and Transformation  \\nBatch: Engineering Datahub  processing and update  \\n \\nSynchronous  \\nDirection  Bidirectional  \\nType of Record  Data  \\nSteady State/Transient  Steady State  \\n \\n4.3.1  Release to Engineering Datahub  Sub-Process & Interface Validations  \\n“Release to Engineering Datahub ” sub-process shall be initiated from the Change Notice main \\nprocess flow.  \\nPre-Validations  \\nThe following Pre -Validations shall be performed  before extracting the Change Notice details in \\nWindchill , \\n(1) Preference Check – Validate if Interface Preference is enabled for the Organization (where the \\nCN is created)  ', metadata={'source': 'C:\\\\Users\\\\ASHOKKUMAR KALIAPPAN\\\\Documents\\\\Ashok\\\\MSc_DataAnalytics\\\\Final_Project\\\\Doc\\\\Engineering_Datahub_Interface_FSD.pdf', 'page': 4}),\n",
       " Document(page_content='                                                   \\n Engineering  Datahub  Interface - Functional Specification Document  \\n \\n Page 6 of 19 1) If Engineering Datahub Interface Preference is enabled, then proceed forward with the \\nnext validation.  \\n2) If Engineering Datahub Interface Preference is disabled, then end the “ Release to \\nEngineering Datahub ” sub -process and proceed with the CN workflow steps.  \\n(2) Eligibility Check – Validate if at least one of the eligible objects (from the below list) is a resulting \\nobject of the CN,  \\n• Part \\n• Assembly  \\n• Part / Assembly Drawing  \\n• Engineering Specification Document  \\n \\n        Take any one of the following actions,  \\n1) If at least one of the resulting objects is eligible for the Interface, then proceed forward \\nwith the next validation.  \\n2) If none of the resulting objects are eligible, then end the “ Release to Engineering \\nDatahub ” sub -process and proceed with the CN workflow steps.  \\n \\nInterface Validations  \\nThe following interface validations are performed,  \\n(1) Part Release Check – CN associated to the previous Released  Version of the Part to be in \\nReleased State  \\na. If the validation is success, then proceed forward with the interface extraction process.  \\nb. If the validation is failure, then create Interface  Extraction  Failure Task for the Admin \\nuser with the CN details which is pending for the Interface.  \\n(2) BOM Structure Check – If Child Component (first revision with Released state) is structured in \\nBOM, need to make sure the CN associated to the Child Component first revision is in \\nReleased or Resolved state (this scenario could  happen if interface failed for CN having first \\nVersion of the Child Component) . \\na. If the validation is success, then proceed forward with the interface extraction process.  \\nb. If the validation is failure, then create Interface Extraction Failure Task for the Admin \\nuser with the CN details which is pending for the Interface.  \\n4.3.2  Windchill Extraction Process  \\nChange Notice processed from Product / Library Containers shall be considered for the \\nEngineering Datahub  interface.  \\nChange Notice will be qualitied for the interface when any one of the following conditions are \\nsatisfied,  \\n(1) Change Notice having Part, Assembly, Part / Assembly Drawing or Engineering \\nSpecification Document  as Resulting Objects  \\n(2) Change Notice having Part or Assembly as Resulting Objects  \\n(3) Change Notice having only Part / Assembly Drawing as Resulting Object  \\n(4) Change Notice having only Engineering Specification Document as Resulting Object  \\n \\nFollowing Change Notice will not qualify for Engineering Datahub  interface,  \\n(1) Change Notice processing only CAD change  \\n(2) Manufacturing Change Notice  ', metadata={'source': 'C:\\\\Users\\\\ASHOKKUMAR KALIAPPAN\\\\Documents\\\\Ashok\\\\MSc_DataAnalytics\\\\Final_Project\\\\Doc\\\\Engineering_Datahub_Interface_FSD.pdf', 'page': 5}),\n",
       " Document(page_content='                                                   \\n Engineering  Datahub  Interface - Functional Specification Document  \\n \\n Page 7 of 19  \\nSystem shall extract the following data elements (whatever applicable for the processing Change \\nNotice) for the Engineering Datahub  interface,  \\n(1) Engineering Release  \\n(2) Part / Assembly  \\n(3) BOM Structure  \\n(4) Part / Assembly Drawing  \\n(5) Engineering Specification Document  \\n \\nSystem shall extract the attributes for each of the various data element s based on the interface \\nmapping document.  \\n \\n4.3.2.1  Engineering Release  \\nChange Request and Change Notice attributes shall be extracted for the Engineering Release \\nData Element  \\n \\nNote:  Normal Change Notice can be created and Resolved without a Change Request.  \\n \\nFollowing attributes shall be extracted for Engineering Release Data Element,  \\n(1) Change Notice Number  \\n(2) Change Request Created By - Change Notice can be associated to more than one \\nChange Request. If CN has more than one CR, then extract the “ Change Request \\nCreated By ” from the old CR (based on the Creation Date).  \\n(3) Change Notice Created By  \\n(4) Advance Change Number  \\n \\n4.3.2.2  Part / Assembly  \\nItem attributes shall be extracted when any of the following object Types are Resulting Objects \\nof the Change Notice,  \\n• Part \\n• Assembly  \\n \\nFollowing attributes shall be extracted for Part / Assembly Data Element , \\n(1) Part Number  \\n(2) Part Org  \\n(3) Part Type – Part or Assembly  \\n(4) Part Name  \\n(5) Part Revision  \\n(6) Part Use  \\n(7) Maturity  \\n(8) Inventory Disposition – CA to Part (Affected Activity Data) relationship attribute.  \\n(9) Source  \\n \\n4.3.2.3  BOM Structure  \\nBOM information (First Level)  shall be extracted when any of the following object Types are \\nResulting Objects of the Change Notice,  \\n• Assembly  \\n \\nFull Extraction : First Level BOM shall be extracted when Assembly  with BOM Structure is \\ncreated and released first time (First Revision of the object is Released through CN). ‘Type of \\nChange’ attribute shall be sent as ‘A’.  \\n ', metadata={'source': 'C:\\\\Users\\\\ASHOKKUMAR KALIAPPAN\\\\Documents\\\\Ashok\\\\MSc_DataAnalytics\\\\Final_Project\\\\Doc\\\\Engineering_Datahub_Interface_FSD.pdf', 'page': 6}),\n",
       " Document(page_content='                                                   \\n Engineering  Datahub  Interface - Functional Specification Document  \\n \\n Page 8 of 19 Delta Extraction : Only Delta changes of the first level BOM structure shall the extracted when \\nAssembly  with BOM Structure is revised and promoted to Released  state. Latest Version shall \\nbe compared with previous Released Version to calculate the delta changes. ‘Type of Change’ \\nattribute shall be sent as ‘A’ or ‘O’, or ‘C’ based on the changes. (A – Add Component, O – \\nOmit or Remove Component, C – Quantity Change).  \\n \\nFollowing attributes shall be extracted for BOM Structure Data Element,  \\n(1) Parent Part Number  \\n(2) Child  Part Number  \\n(3) Quantity  \\n(4) Kit \\n \\n4.3.2.4  Part / Assembly  Drawing  \\nReference Drawing information shall be extracted when any of the following object Types are \\nResulting Objects of the Change Notice , \\n• Part / Assembly Drawing  \\n \\nFollowing attributes shall be extracted for Part / Assembly Drawing  Data Element,  \\n(1) Part / Assembly Drawing  Number  \\n(2) Part / Assembly Drawing  Revision  \\n \\n4.3.2.5  Engineering Standard  Document  \\nData  shall be extracted when any of the following object Types are Resulting Objects of the \\nChange Notice , \\n• Engineering Specification  Document  \\n \\nFollowing attributes shall be extracted for the Engineering Specification Document  Data \\nElement,  \\n(1) Engineering Specification Document  Number  \\n(2) Engineering Specification Document  Revision  \\n \\n4.3.3  Middleware Data Transformation Rules  \\nMiddleware system  shall transform the following data elements (whatever applicable while \\nprocessing Change Notice) for the Engineering Datahub  interface,  \\n(1) Engineering Release  \\n(2) Part / Assembly  \\n(3) BOM Structure  \\n(4) Part / Assembly Drawing  \\n(5) Engineering Specification Document  \\n \\nSystem shall transform the attributes for each of the data element based on the interface mapping \\ndocument.  \\n \\nMiddleware File Queue  \\nEngineering Datahub  can process only one Change Notice at any point. Windchill will be able to \\nsend concurrent Change Notice at a time, so Middleware shall queue the Change Notices and \\ntransform and send one Change Notice at any time based on the Engineering Datahub  processing \\nstatus.  \\n \\n ', metadata={'source': 'C:\\\\Users\\\\ASHOKKUMAR KALIAPPAN\\\\Documents\\\\Ashok\\\\MSc_DataAnalytics\\\\Final_Project\\\\Doc\\\\Engineering_Datahub_Interface_FSD.pdf', 'page': 7}),\n",
       " Document(page_content='                                                   \\n Engineering  Datahub  Interface - Functional Specification Document  \\n \\n Page 9 of 19 Following are the possible scenarios,  \\n(1)  Engineering Datahub  is not processing any Change Notice – When Windchill change Notice \\nis received, Middleware can transform and send the target file immediately (there will not be \\nany wait time)  \\n(2) If Engineering Datahub is processing any change Notice – When Windchill change Notice is \\nreceived, Middleware can queue the Change Notice, then transform and send the Target file \\nonce the Engineering Datahub  processing is complete for the previous change Notice (there \\nwill be wait time)  \\n \\n4.3.4  Engineering Datahub  System Update Process  \\nSystem shall process the change Notice File sent by Middleware. Change Notice file will have the \\nfollowing Data Elements (All or few of the data elements are sent based on Change Notice),  \\n(1) Engineering Release  \\n(2) Part / Assembly  \\n(3) BOM Structure  \\n(4) Part / Assembly Drawing  \\n(5) Engineering Specification Document  \\nSystem shall process each record from the Change Notice file and perform data processing \\nvalidations. Following are the possible scenarios while processing the Data Elements,  \\n(1) All records successfully processed without any data errors – System shall successfully update \\nthe Change Notice information in Engineering Datahub  and send the Success \\nAcknowledgement (Change Notice Number, Request ID, Status = ‘Success’ and Status \\nMessage = ‘’) to Middleware  \\n(2) Data Errors encountered while processing the records – System shall not update the Change \\nNotice information in Engineering Datahub and send consolidate all the failure records and \\nsend the Failure Acknowledgement (Change Notice Number, Request ID, Status = ‘Failure’ \\nand Status Message = ‘Failure Reason’) to Middleware.  \\nNote : If any failures observed with any of the record from Change Notice file, entire Change Notice \\nshall be rejected, and Failure Acknowledgement shall be sent to Middleware system.  \\n4.3.5  Windchill Change Notice Processing after Engineering Datahub Acknowledgement  \\nWindchill system shall process the Acknowledgement sent by Engineering Datahub system and \\nshall take one of the following actions,  \\n(1) Success: Promote Change Notice to Released state.  \\n(2) Failure: Create Interface Failure Task for Windchill System Admin and notify change \\nNotice Auditor  on the failure with reason for failures sent by Engineering Datahub system.  \\n4.4 Interface Failure Handling and Re -Trigger Mechanism  \\n \\nNotification for Change Notice Auditor  \\n \\nEmail Notification shall be sent to the  Change Notice Auditor  in case of the Interface Failures.  \\n \\nScenario  Email (Subject & Body)  \\nInterface Validation Failure  Subject : Engineering Datahub Interface Failure for CN123  \\nBody : Interface validation failure for the Change Notice. Interface \\nFailure Task generated for the Windchill Production Support Team. ', metadata={'source': 'C:\\\\Users\\\\ASHOKKUMAR KALIAPPAN\\\\Documents\\\\Ashok\\\\MSc_DataAnalytics\\\\Final_Project\\\\Doc\\\\Engineering_Datahub_Interface_FSD.pdf', 'page': 8}),\n",
       " Document(page_content='                                                   \\n Engineering  Datahub  Interface - Functional Specification Document  \\n \\n Page 10 of 19 Team will work on the failure analysis, take necessary steps to \\nresolve the failure and re -trigger the Engineering Datahub interface.  \\nPlease reach out to Windchill Production Support Team for the \\nupdates on the resolution.  \\n \\nNOTE : This is a system generated e -mail.  Please do not reply to \\nthis email.  \\nWindchill Extraction  \\nFailure  Subject : Engineering Datahub Interface Failure for CN123  \\nBody : Interface extraction failure for the Change Notice. Interface \\nFailure Task generated for the Windchill Production Support Team. \\nTeam will work on the failure analysis, take necessary steps to \\nresolve the failure and re -trigger the Engineering Datahub interface.  \\nPlease reach out to Windchill Production Support Team for the \\nupdates on the resolution.  \\n \\nNOTE : This is a system generated e -mail.  Please do not reply to \\nthis email.  \\nMiddleware Service \\nFailures  Subject : Engineering Datahub Interface Failure for CN123  \\nBody : Middleware failure for the Change Notice. Interface Failure \\nTask generated for the Windchill Production Support Team. Team \\nwill work on the failure analysis, take necessary steps to resolve the \\nfailure and re -trigger the Engineering Datahub interface.  \\nPlease reach out to Windchill Production Support Team for the \\nupdates on the resolution.  \\n \\nNOTE : This is a system generated e -mail.  Please do not reply to \\nthis email.  \\nEngineering Datahub \\nProcessing Failure  Subject : Engineering Datahub Interface Failure for CN123  \\nBody : Engineering Datahub processing failure for the Change \\nNotice. Interface Failure Task generated for the Windchill Production \\nSupport Team. Team will work on the failure analysis, take \\nnecessary steps to resolve the failure and re -trigger the Engineering \\nDatahub interface.  \\nPlease reach out to Windchill Production Support Team for the \\nupdates on the resolution.  \\n \\nNOTE : This is a system generated e -mail.  Please do not reply to \\nthis email.  \\n \\n5. Interface Special Considerations  \\nCategory  Considerations  \\nExtraction  Assembly  when promoted to target state of “Obsolete”, BOM \\nStructure changes shall not be extracted.  \\nOnly delta changes for the BOM Structure shall be extracted when \\nAssembly is revised and released with BOM structure  ', metadata={'source': 'C:\\\\Users\\\\ASHOKKUMAR KALIAPPAN\\\\Documents\\\\Ashok\\\\MSc_DataAnalytics\\\\Final_Project\\\\Doc\\\\Engineering_Datahub_Interface_FSD.pdf', 'page': 9}),\n",
       " Document(page_content='                                                   \\n Engineering  Datahub  Interface - Functional Specification Document  \\n \\n Page 11 of 19 Transformation  None  \\nTarget File Generation  None  \\n6. Engineering  Datahub Interface Use Case s (Detailed)  \\n6.1 UC1: Create and Release Part through Change Request and Change Notice process  \\n \\nUse case Name  Create and Release Part through Change Request and Change Notice process  \\nDescription  Create and Release Part through Change Request and Change Notice process  \\nPreconditions  Engineering Datahub  Interface is enabled for the Organization where the CR/CN will \\nbe created  \\nActors  • CR Creator  \\n• Change Implementation Leader  \\n• CA Assignee ( Design Engineer ) \\n• CA Reviewer (Optional)  \\n• CN Auditor  \\nAssumptions  None  \\n \\nMain Flow  1. CR Creator: Create Change Request and enter Description (Engineering \\nRelease Text) and fill -in the mandatory attributes and Submit CR.  \\n2. System: CR will be successfully Created. “Analyze Change Request” Task will \\nbe generated and assigned to Change Leader group.  \\n3. Change Leader: Access the Change Task and select Routing Option \\n“Fast_Track” and complete the Task  \\n4. System: “Submit Change Notice” Task will be generated and assigned to \\n“Change Implementation Leader”  \\n5. Change Implementation Leader: Accept the Change Task and create new \\nChange Notice from the Change Request information page “Actions” Menu. \\nDefine implementation plan for the CA, assign CA Assignee and Reviewer, \\nNeed Date and Submit. Complete “Submit Change  Notice” Task with \\nFast_Track routing Option.  \\n6. System: Change Activity will be successfully created, and “Complete Change \\nActivity” Task will be generated and assigned to the selected CA Assignee  \\n7. CA Assignee: Accept the Change Activity Task. Create new Part and populate \\nthe following attributes,  \\n• New Part with Type = Part  \\n• Primary Classification  \\n• Part Use  \\n• Maturity  \\n• Source  \\n8. System: New Part will be successfully created.  \\n9. CA Assignee: Add newly created Part as Resulting Objects for the CA and \\ncomplete Change Task  \\n10. CA Reviewer: Review the Change and complete the Change Task  \\n11. System: CA will be successfully Resolved, and change Notice Audit  task will be \\ngenerated and assigned to Change Auditor  \\n12. Change Notice Auditor : Review and complete the Audit Task  ', metadata={'source': 'C:\\\\Users\\\\ASHOKKUMAR KALIAPPAN\\\\Documents\\\\Ashok\\\\MSc_DataAnalytics\\\\Final_Project\\\\Doc\\\\Engineering_Datahub_Interface_FSD.pdf', 'page': 10}),\n",
       " Document(page_content='                                                   \\n Engineering  Datahub  Interface - Functional Specification Document  \\n \\n Page 12 of 19 13. System: Part will be promoted to Released state. Extract the data and interface \\nit to Engineering Datahub .  \\n14. Interface Process:  \\na. Extract the data and stores the JSON format file => JSON file will have \\nEngineering Release and Item tags. All the expected attributes will be \\nextracted for the Engineering Release and Item tags  \\nb. Middleware will transform the data based on the transformation rules \\ndefined in the mapping sheet  \\nc. Target file will be generated and transferred to Engineering Datahub \\nsystem  \\nd. Engineering Datahub System will then send the Acknowledgement back \\nto Middleware and Middleware system will then send the \\nacknowledgement back to Windchill  \\n15. System: CN will be promoted to Released  state.  \\nAlternate Flow  None  \\nPost Conditions  CN details will be interfaced to Engineering Datahub , and CN will be Resolved in \\nWindchill  \\nSpecial \\nConditions  (1) Target states of the Resulting Objects can be Released  or Obsolete  \\n(2) CA can have maximum of 4 CA Assignee’s  \\nSystem Actions  Part will be promoted to Target State and CN will be promoted to Resolved state  \\nSystem \\nValidation  CA Validations will be executed,  and Engineering Datahub interface pre -validations \\nwill be executed  \\nReference  None  \\n \\n6.2 UC2: Revise and Release Part with attribute changes through Change Request and Change \\nNotice process  \\nUse case Name  Revise and Release Part with attribute changes through Change Request and \\nChange Notice process  \\nDescription  Revise and Release Part with attribute changes through Change Request and \\nChange Notice process  \\nPreconditions  Engineering Datahub Interface is enabled for the Organization where the CR/CN will \\nbe created  \\nActors  • CR Creator  \\n• Change Implementation Leader  \\n• CA Assignee (Design Engineer)  \\n• CA Reviewer (Optional)  \\n• CN Auditor  \\nAssumptions  None  \\n \\nMain Flow  1. CR Creator: Create Change Request and enter Description (Engineering \\nRelease Text) and fill -in the mandatory attributes and Submit CR.  \\n2. System: CR will be successfully Created. “Analyze Change Request” Task will \\nbe generated and assigned to Change Leader group.  \\n3. Change Leader: Access the Change Task and select Routing Option \\n“Fast_Track” and complete the Task  \\n4. System: “Submit Change Notice” Task will be generated and assigned to \\n“Change Implementation Leader”  ', metadata={'source': 'C:\\\\Users\\\\ASHOKKUMAR KALIAPPAN\\\\Documents\\\\Ashok\\\\MSc_DataAnalytics\\\\Final_Project\\\\Doc\\\\Engineering_Datahub_Interface_FSD.pdf', 'page': 11}),\n",
       " Document(page_content='                                                   \\n Engineering  Datahub  Interface - Functional Specification Document  \\n \\n Page 13 of 19 5. Change Implementation Leader: Accept the Change Task and create new \\nChange Notice from the Change Request information page “Actions” Menu. \\nDefine implementation plan for the CA, assign CA Assignee and Reviewer, \\nNeed Date and Submit. Complete “Submit Change  Notice” Task with \\nFast_Track routing Option.  \\n6. System: Change Activity will be successfully created, and “Complete Change \\nActivity” Task will be generated and assigned to the selected CA Assignee  \\n7. CA Assignee: Accept the Change Activity Task. Revise the Part and update \\nthe following attributes and check -in the Part , \\n• Part Use  \\n• Maturity  \\n• Source  \\n8. System: Part will be successfully created.  \\n9. CA Assignee: Add newly created Part as Resulting Objects for the CA and \\ncomplete Change Task  \\n10. CA Reviewer: Review the Change and complete the Change Task  \\n11. System: CA will be successfully Resolved, and CN Audit  task will be generated \\nand assigned to Change Notice Auditor  \\n12. Change Notice Auditor : Review and complete the Audit Task  \\n13. System: Part will be promoted to Released state. Extract the data and interface \\nit to Engineering Datahub .  \\n14. Interface Process:  \\na. Extract the data and stores the JSON format file => JSON file will have \\nEngineering Release and Item tags. All the expected attributes will be \\nextracted for the Engineering Release and Item tags.  \\nb. Middleware will transform the data based on the transformation rules \\ndefined in the mapping sheet  \\nc. Target file will be generated and transferred to Engineering Datahub \\nsystem  \\nd. Engineering Datahub System will then send the Acknowledgement back \\nto Middleware and Middleware system will then send the \\nacknowledgement back to Windchill  \\n15. System: CN will be promoted to Resolved state.  \\nAlternate Flow  None  \\nPost Conditions  CN details will be interfaced to Engineering Datahub , and CN will be Resolved in \\nWindchill  \\nSpecial \\nConditions  (1) Target states of the Resulting Objects can be Released  or Obsolete  \\n(2) CA can have maximum of 4 CA Assignee’s  \\nSystem Actions  Part will be promoted to Target State and CN will be promoted to Resolved state  \\nSystem \\nValidation  CA Validations will be executed and Engineering Datahub interface pre -validations \\nwill be executed  \\nReference  None  \\n ', metadata={'source': 'C:\\\\Users\\\\ASHOKKUMAR KALIAPPAN\\\\Documents\\\\Ashok\\\\MSc_DataAnalytics\\\\Final_Project\\\\Doc\\\\Engineering_Datahub_Interface_FSD.pdf', 'page': 12}),\n",
       " Document(page_content='                                                   \\n Engineering  Datahub  Interface - Functional Specification Document  \\n \\n Page 14 of 19 6.3 UC3: Revise and Obsolete Part through Change Request and Change Notice process  \\nUse case Name  Revise and Obsolete Part through Change Request and Change Notice process  \\nDescription  Revise and Obsolete Part through Change Request and Change Notice process  \\nPreconditions  • Engineering Datahub Interface is enabled for the Organization where the CR/CN \\nwill be created  \\n• Part and associated documents are in Released State  \\n• Change Implementation Leader has created CN and defined implementation \\nplan, added Affected Objects / Resulting Objects with Target promotion state \\nReleased and Submitted CN  \\n• “Complete Change Activity” Task got generated and assigned to the selected \\nCA Assignee with the Revised Part as Resulting Object  \\nActors  • CR Creator  \\n• Change Implementation Leader  \\n• CA Assignee (Design Engineer)  \\n• CA Reviewer (Optional)  \\n• CN Auditor  \\nAssumptions  None  \\n \\nMain Flow  1. CA Assignee: Accept the Change Activity Task. Perform CA Validations and \\nComplete  Change Task  \\n2. CA Reviewer: Review the Change and complete the Change Task  \\n3. System: CA will be successfully Resolved, and Change Notice Audit  task will be \\ngenerated and assigned to Change Auditor  \\n4. Change Notice Auditor : Review and complete the Audit Task  \\n5. System: Part will be promoted to Released state. Extract the data and interface \\nit to Engineering Datahub .  \\n6. Interface Process:  \\na. Extract the data and stores the JSON format file => JSON file will have \\nEngineering Release and Item tags. All the expected attributes will be \\nextracted for the Engineering Release and Item tags.  \\nb. Middleware will transform the data based on the transformation rules \\ndefined in the mapping sheet  \\nc. Target file will be generated and transferred to Engineering Datahub \\nsystem  \\nd. Engineering Datahub System will then send the Acknowledgement back \\nto Middleware and Middleware system will then send the \\nacknowledgement back to Windchill  \\n7. System: CN will be promoted to Resolved state.  \\nAlternate Flow  None  \\nPost Conditions  CN details will be interfaced to Engineering Datahub, and CN will be Resolved in \\nWindchill  \\nSpecial \\nConditions  (1) Target states of the Resulting Objects can be Released  or Obsolete  \\n(2) CA can have maximum of 4 CA Assignee’s  \\nSystem Actions  Part will be promoted to Target State and CN will be promoted to Resolved state  \\nSystem \\nValidation  CA Validations will be executed and Engineering Datahub interface pre -validations \\nwill be executed  ', metadata={'source': 'C:\\\\Users\\\\ASHOKKUMAR KALIAPPAN\\\\Documents\\\\Ashok\\\\MSc_DataAnalytics\\\\Final_Project\\\\Doc\\\\Engineering_Datahub_Interface_FSD.pdf', 'page': 13}),\n",
       " Document(page_content='                                                   \\n Engineering  Datahub  Interface - Functional Specification Document  \\n \\n Page 15 of 19 Reference  None  \\n \\n6.4 UC4: Create and Release Assembly with BOM Structure through Change Request and Change \\nNotice process  \\nUse Case Name  Create and Release Assembly with BOM Structure through Change Request and \\nChange Notice process  \\nDescription  Create and Release Assembly with BOM Structure through Change Request and \\nChange Notice process  \\nPreconditions  • Engineering Datahub  Interface is enabled for the Organization where the \\nCR/CN/CA will be created  \\n• CR Creator has created and submitted CR and Change Leader has completed \\nthe Task  \\n• Change Implementation Leader has created CN and defined implementation \\nplan, added Affected Objects / Resulting Objects with Target promotion state \\nReleased and Submitted CN  \\n• “Complete Change Activity” Task got generated and assigned to the selected \\nCA Assignee with the Revised Part as Resulting Object  \\nActors  • CR Creator  \\n• Change Implementation Leader  \\n• CA Assignee (Design Engineer)  \\n• CA Reviewer (Optional)  \\n• CN Auditor  \\nAssumptions  None  \\n \\nMain Flow  1. CA Assignee: Accept the Change Activity Task. Create New Assembly, \\npopulate  attributes and check -in the Assembly , \\n• New Part with Type = Assembly  \\n• Primary Classification  \\n• Part Use  \\n• Maturity  \\n• Source  \\n• Update BOM Structure and attributes  (Add Child Components)  \\n2. System: Part will be checked -in and new attributes will be updated.  \\n3. CA Assignee: Complete Change Task  \\n4. CA Reviewer: Review the Change and complete the Change Task  \\n5. System: CA will be successfully Resolved, and Change Notice Audit  task will be \\ngenerated and assigned to Change Auditor  \\n6. Change Notice Auditor : Review and complete the Audit Task  \\n7. System: Part will be promoted to Released state. Extract the data and interface \\nit to Engineering Datahub .  \\n8. Interface Process:  \\na. Extract the data and stores the JSON format file => JSON file will have \\nEngineering Release, Item and Structure tags. All the expected \\nattributes will be extracted for the Engineering Release, Item and \\nStructure tags.  \\nb. Middleware will transform the data based on the transformation rules \\ndefined in the mapping sheet  ', metadata={'source': 'C:\\\\Users\\\\ASHOKKUMAR KALIAPPAN\\\\Documents\\\\Ashok\\\\MSc_DataAnalytics\\\\Final_Project\\\\Doc\\\\Engineering_Datahub_Interface_FSD.pdf', 'page': 14}),\n",
       " Document(page_content='                                                   \\n Engineering  Datahub  Interface - Functional Specification Document  \\n \\n Page 16 of 19 c. Target file will be generated and transferred to Engineering Datahub \\nsystem  \\nd. Engineering Datahub System will then send the Acknowledgement back \\nto Middleware and Middleware system will then send the \\nacknowledgement back to Windchill  \\n9. System: CN will be promoted to Resolved state.  \\nAlternate Flow  None  \\nPost Conditions  CN details will be interfaced to Engineering Datahub, and CN will be Resolved in \\nWindchill  \\nSpecial \\nConditions  (1) Target states of the Resulting Objects can be Released  or Obsolete  \\n(2) CA can have maximum of 4 CA Assignee’s  \\nSystem Actions  Assembly  will be promoted to Target State and CN will be promoted to Resolved \\nstate  \\nSystem \\nValidation  CA Validations will be executed and Engineering Datahub interface pre -validations \\nwill be executed  \\nReference  None  \\n \\n6.5 UC5: Revise and Release Assembly with BOM Structure changes (Add Component, Remove \\nComponent or Quantity change) through Change Request and Change Notice process  \\nUse Case Name  Revise and Release Assembly with BOM Structure changes (Add Component, \\nRemove Component or Quantity change) through Change Request and Change \\nNotice process  \\nDescription  Revise and Release Assembly with BOM Structure changes (Add Component, \\nRemove Component or Quantity change) through Change Request and Change \\nNotice process  \\nPreconditions  • Engineering Datahub  Interface is enabled for the Organization where the \\nCR/CN/CA will be created  \\n• CR Creator has created and submitted CR and Change Leader has completed \\nthe Task  \\n• Change Implementation Leader has created CN and defined implementation \\nplan, added Affected Objects / Resulting Objects with Target promotion state \\nReleased and Submitted CN  \\n• “Complete Change Activity” Task got generated and assigned to the selected \\nCA Assignee with the Revised Part as Resulting Object  \\nActors  • CR Creator  \\n• Change Implementation Leader  \\n• CA Assignee (Design Engineer)  \\n• CA Reviewer (Optional)  \\n• CN Auditor  \\nAssumptions  None  \\n \\nMain Flow  1. CA Assignee: Accept the Change Activity Task. Checkout and update the \\nConfigurable attributes and check -in the Assembly , \\na. Part Use  \\nb. Maturity  \\nc. Update BOM Structure and attributes (Add / Remove Child \\nComponents / Perform Quantity changes ) \\n2. System: Assembly  will be checked -in and new attributes will be updated.  ', metadata={'source': 'C:\\\\Users\\\\ASHOKKUMAR KALIAPPAN\\\\Documents\\\\Ashok\\\\MSc_DataAnalytics\\\\Final_Project\\\\Doc\\\\Engineering_Datahub_Interface_FSD.pdf', 'page': 15}),\n",
       " Document(page_content='                                                   \\n Engineering  Datahub  Interface - Functional Specification Document  \\n \\n Page 17 of 19 3. CA Assignee: Complete Change Task  \\n4. CA Reviewer: Review the Change and complete the Change Task  \\n5. System: CA will be successfully Resolved, and Change Notice Audit  task will be \\ngenerated and assigned to Change Auditor  \\n6. Change Notice Auditor : Review and complete the Audit Task  \\n7. System: Part will be promoted to Released state. Extract the data and interface \\nit to Engineering Datahub .  \\n8. Interface Process:  \\na. Extract the data and stores the JSON format file => JSON file will have \\nEngineering Release, Item and Structure tags. All the expected \\nattributes will be extracted for the Engineering Release, Item and \\nStructure tags.  \\nb. Middleware will transform the data based on the transformation rules \\ndefined in the mapping sheet  \\nc. Target file will be generated and transferred to Engineering Datahub \\nsystem  \\nd. Engineering Datahub System will then send the Acknowledgement back \\nto Middleware and Middleware system will then send the \\nacknowledgement back to Windchill  \\n9. System: CN will be promoted to Resolved state.  \\nAlternate Flow  None  \\nPost Conditions  CN details will be interfaced to Engineering Datahub, and CN will be Resolved in \\nWindchill  \\nSpecial \\nConditions  (1) Target states of the Resulting Objects can be Released  or Obsolete  \\n(2) CA can have maximum of 4 CA Assignee’s  \\nSystem Actions  Assembly  will be promoted to Target State and CN will be promoted to Resolved \\nstate  \\nSystem \\nValidation  CA Validations will be executed and Engineering Datahub interface pre -validations \\nwill be executed  \\nReference  None  \\n6.6 UC6: Revise and Obsolete Assembly through Change Request and Change Notice process  \\nUse Case Name  Revise and Obsolete Assembly through Change Request and Change Notice \\nprocess  \\nDescription  Revise and Obsolete Assembly through Change Request and Change Notice \\nprocess  \\nPreconditions  • Engineering Datahub  Interface is enabled for the Organization where the \\nCR/CN/CA will be created  \\n• CR Creator has created and submitted CR and Change Leader has completed \\nthe Task  \\n• Change Implementation Leader has created CN and defined implementation \\nplan, added Affected Objects / Resulting Objects ( Assembly ) with Target \\npromotion state, ‘ Obsolete’ and Submitted CN  \\n•  “Complete Change Activity” Task got generated and assigned to the selected \\nCA Assignee  \\nActors  • CR Creator  \\n• Change Implementation Leader  ', metadata={'source': 'C:\\\\Users\\\\ASHOKKUMAR KALIAPPAN\\\\Documents\\\\Ashok\\\\MSc_DataAnalytics\\\\Final_Project\\\\Doc\\\\Engineering_Datahub_Interface_FSD.pdf', 'page': 16}),\n",
       " Document(page_content='                                                   \\n Engineering  Datahub  Interface - Functional Specification Document  \\n \\n Page 18 of 19 • CA Assignee (Design Engineer)  \\n• CA Reviewer (Optional)  \\n• CN Auditor  \\nAssumptions  None  \\n \\nMain Flow  1. CA Assignee: Accept the Change Activity Task. Complete Change Task (no \\nmodifications to the  Assembly ) \\n2. CA Reviewer: Review the Change and complete the Change Task  \\n3. System: CA will be successfully Resolved, and Change Notice Audit  task will be \\ngenerated and assigned to Change Auditor  \\n4. Change Notice Auditor : Review and complete the Audit Task  \\n5. System: Part will be promoted to Obsolete  state. Extract the data and interface \\nit to Engineering Datahub .  \\n6. Interface Process:  \\n1. Extract the data and stores the JSON format file => JSON file will have \\nEngineering Release and Item tags. All the expected attributes will be \\nextracted for the Engineering Release and Item tags.  \\n2. Middleware will transform the data based on the transformation rules \\ndefined in the mapping sheet  \\n3. Target file will be generated and transferred to Engineering Datahub \\nsystem  \\n4. Engineering Datahub System will then send the Acknowledgement back \\nto Middleware and Middleware system will then send the \\nacknowledgement back to Windchill  \\n7. System: CN will be promoted to Resolved state.  \\nAlternate Flow  NA \\nPost Conditions  CN details will be interfaced to Engineering Datahub, and CN will be Resolved in \\nWindchill  \\nSpecial \\nConditions  CA can have maximum of 4 CA Assignee’s and 4 CA Reviewer’s  \\nSystem Actions  Assembly  will be promoted to Target State and CN will be promoted to Resolved \\nstate  \\nSystem \\nValidation  CA Validations will be executed and Engineering Datahub interface pre -validations \\nwill be executed  \\nReference  None  \\n \\n7. Non-Functional Requirements  \\n \\nNon-Functional Category  Non-Functional Requirement  Value  \\nPerformance & Volume  Average Number of \\nTransactions/days  Average of 60 Releases per day  \\n362 Parts per day  \\n400 BOMs per day  ', metadata={'source': 'C:\\\\Users\\\\ASHOKKUMAR KALIAPPAN\\\\Documents\\\\Ashok\\\\MSc_DataAnalytics\\\\Final_Project\\\\Doc\\\\Engineering_Datahub_Interface_FSD.pdf', 'page': 17}),\n",
       " Document(page_content='                                                   \\n Engineering  Datahub  Interface - Functional Specification Document  \\n \\n Page 19 of 19  Growth Rate  No Specific input. Can consider \\ndefault value  \\n Max User Base  - \\n Pattern of Transactions  No Pattern exist  \\n Average Number of Concurrent \\nTransactions/secs  - \\n Peak Number of Concurrent \\nTransactions/secs  - \\nLatency  Acceptable delay in \\nquerying/updating the data  Maximum One Day. For Fast track \\nreleases, there should not be any \\ndelay.  \\nSecurity  Data Classification  Restricted  \\nAvailability & Reliability  Availability Requirement  Should be available 24 * 7 except \\nmaintenance downtime over \\nweekend  \\n Need for Acknowledgement  Response to be sent back to \\nTarget system  \\nReusability  Reused Areas/Systems  None  \\nSpecial Requirements  Sequencing  All other interfaces shall be \\ntriggered after Engineering \\nInterface  \\n  \\n~~~~~~~~~~~~~~~~~~~~~~~ End of document ~~~~~~~~~~~~~~~~~~~~~~~  \\n ', metadata={'source': 'C:\\\\Users\\\\ASHOKKUMAR KALIAPPAN\\\\Documents\\\\Ashok\\\\MSc_DataAnalytics\\\\Final_Project\\\\Doc\\\\Engineering_Datahub_Interface_FSD.pdf', 'page': 18})]"
      ]
     },
     "execution_count": 128,
     "metadata": {},
     "output_type": "execute_result"
    }
   ],
   "source": [
    "## Read Data Source 1: Interface Functional Specification Document (PDF)\n",
    "extracted_data_fsd = read_data_from_pdf (SOURCE_FILES_PATH + \"Engineering_Datahub_Interface_FSD.pdf\",False)\n",
    "extracted_data_fsd"
   ]
  },
  {
   "cell_type": "code",
   "execution_count": 130,
   "metadata": {},
   "outputs": [
    {
     "name": "stdout",
     "output_type": "stream",
     "text": [
      "Engineering Datahub Interface Process FlowEngineering Datahub Interface Process Flow\n",
      "Engineering \n",
      "DatahubEngineering \n",
      "DatahubWindchill  PLM Windchill  PLM MiddlewareMiddlewareComplete  Change Notice \n",
      "Audit TaskChange Notice Interface \n",
      "Failure Task is Created\n",
      "Change Notice AuditorChange Notice  Details**\n",
      "Update Change Notice  \n",
      "Details** in Engineering \n",
      "Datahub systemYesChange Notice is promoted to \n",
      "Resolved  State  and Resulting \n",
      "objects is promoted to Target \n",
      "State (Released / Obsolete)\n",
      "No\n",
      "Is data update \n",
      "successful?**Change Notice  Details\n",
      "• Engineering Release\n",
      "• Part / Assembly\n",
      "• BOM Structure\n",
      "• Part / Assembly Drawing\n",
      "• Engineering Specification \n",
      "DocumentResend Change Notice Details \n",
      "to Target SystemLog Errors/Send Mail to \n",
      "Production Support  TeamWindchill Support Team fix \n",
      "the issue & complete \n",
      "Change Notice Interface \n",
      "Failure Task\n",
      "Notify \n",
      "Change Notice AuditorEnd\n",
      "Data Transformation as per Business \n",
      "Rules  and publish the data to \n",
      "Engineering Datahub system\n",
      "Change Notice  Details**\n"
     ]
    }
   ],
   "source": [
    "## Read Data Source 2: Interface Data Flow (PDF)\n",
    "extracted_data_interfaceflow = read_data_from_pdf (SOURCE_FILES_PATH + \"Engineering_Datahub_Interface_ProcessFlow.pdf\",True)\n",
    "print(extracted_data_interfaceflow[0].page_content)"
   ]
  },
  {
   "cell_type": "code",
   "execution_count": 134,
   "metadata": {},
   "outputs": [
    {
     "data": {
      "text/plain": [
       "[Document(page_content='INC Number: INC0001\\nDescription: Description of Issue: user wanted to change the description of Change Notice\\nSteps involved: 1. Check if the Change Notice is present in Windchill\\n2. Check the existing description of Change Notice\\n3. Based on the state and approval follow below steps.\\n4. If the Change Notice is in Resolved state, we need approval from Business, apart from that we can change the description directly.\\n5. Change Notice > Actions > Edit \\n6. Change the description as required\\nWork Log: Step 1: Accept the ticket and move to In Progress \\nStep 2: Check state of the Change Notice  \\nStep 3: Based on the state of the Change Notice steps are processed \\nStep 4:If the Change Notice is in Resolved state, we need approval from Business, apart from that we can change the description directly.\\nStep 5: If the Change Notice is in resolved state then collect the information from user on why the description needs to be changed after the CN moved to resolved state.\\nStep 6: Send an approval mail to business team with details of the ticket and wait for business approval. \\nStep 7: Based on the approval from business, request can be processed.  \\nStep 8: After completing the request, Inform user and get confirmation\\nFailure Category: Data management - Insert/Delete/Cancel\\nResolution Notes: User requested to change the description of Change Notice', metadata={'source': 'C:\\\\Users\\\\ASHOKKUMAR KALIAPPAN\\\\Documents\\\\Ashok\\\\MSc_DataAnalytics\\\\Final_Project\\\\Doc\\\\Incident_Management_Steps.csv', 'row': 0}),\n",
       " Document(page_content='INC Number: INC0002\\nDescription: Description of Issue: user wanted to change the description of Change Request\\nSteps involved: 1. Check if the Change Request is present in Windchill\\n2. Check the existing description of Change Request\\n3. Based on the state and approval follow below steps.\\n4. If the Change Request is in Resolved state, we need approval from Business, apart from that we can change the description directly.\\n5. Change Request > Actions > Edit \\n6. Change the description as required\\nWork Log: Step 1: Accept the ticket and move to In Progress \\nStep 2: Check state of the Change Request  \\nStep 3: Based on the state of the Change Request steps are processed \\nStep 4:If the Change Request is in Resolved state, we need approval from Business, apart from that we can change the description directly.\\nStep 5: If the Change Request is in resolved state then collect the information from user on why the description needs to be changed after the CN moved to resolved state.\\nStep 6: Send an approval mail to business team with details of the ticket and wait for business approval. \\nStep 7: Based on the approval from business, request can be processed.  \\nStep 8: After completing the request, Inform user and get confirmation\\nFailure Category: Data management - Insert/Delete/Cancel\\nResolution Notes: User requested to change the description of Change Request', metadata={'source': 'C:\\\\Users\\\\ASHOKKUMAR KALIAPPAN\\\\Documents\\\\Ashok\\\\MSc_DataAnalytics\\\\Final_Project\\\\Doc\\\\Incident_Management_Steps.csv', 'row': 1}),\n",
       " Document(page_content='INC Number: INC0003\\nDescription: Description of Issue: user wanted to change the description of Change Activity\\nSteps involved: 1. Check if the Change Activity is present in Windchill\\n2. Check the existing description of Change Activity\\n3. Based on the state and approval follow below steps.\\n4. If the Change Activity is in Resolved state, we need approval from Business, apart from that we can change the description directly.\\n5. Change Activity > Actions > Edit \\n6. Change the description as required\\nWork Log: Step 1: Accept the ticket and move to In Progress \\nStep 2: Check state of the Change Activity  \\nStep 3: Based on the state of the Change Activity steps are processed \\nStep 4:If the Change Activity is in Resolved state, we need approval from Business, apart from that we can change the description directly.\\nStep 5: If the Change Activity is in resolved state then collect the information from user on why the description needs to be changed after the CN moved to resolved state.\\nStep 6: Send an approval mail to business team with details of the ticket and wait for business approval. \\nStep 7: Based on the approval from business, request can be processed.  \\nStep 8: After completing the request, Inform user and get confirmation\\nFailure Category: Data management - Insert/Delete/Cancel\\nResolution Notes: User requested to change the description of Change Activity', metadata={'source': 'C:\\\\Users\\\\ASHOKKUMAR KALIAPPAN\\\\Documents\\\\Ashok\\\\MSc_DataAnalytics\\\\Final_Project\\\\Doc\\\\Incident_Management_Steps.csv', 'row': 2}),\n",
       " Document(page_content='INC Number: INC0004\\nDescription: Description of Issue: user wanted to add the members in the Change Activity under required role\\nSteps involved: 1. Check if the Change Activity is present in Windchill\\n2. Check the existing members in the Change Activity\\n3. Based on the state and approval follow below steps.\\n4. Change Activity > Process tab > Members >\\n5.Add the members under the required role.\\nWork Log: Step 1: Accept the ticket and move to In Progress \\nStep 2: Check state of the Change Activity  \\nStep 3: Based on the state of the Change Activity steps are processed \\nStep 4: We have to check why CIL not able to add the members.\\nStep 5: Send an approval mail to business team with details of the ticket and wait for business approval. \\nStep 6: Based on the approval from business, request can be processed.  \\nStep 7: After completing the request, Inform user and get confirmation\\nFailure Category: Data management - Insert/Delete/Cancel\\nResolution Notes: User requested to add the members in Change Activity', metadata={'source': 'C:\\\\Users\\\\ASHOKKUMAR KALIAPPAN\\\\Documents\\\\Ashok\\\\MSc_DataAnalytics\\\\Final_Project\\\\Doc\\\\Incident_Management_Steps.csv', 'row': 3}),\n",
       " Document(page_content='INC Number: INC0005\\nDescription: Description of Issue: User wanted to cancel the Change request\\nSteps involved: 1. Check if the Change Request is present in Windchill\\n2. Check the Current state of CR, Associated CN and CA.\\n3. Check with user for the reason for cancelling the CR.\\n4. Check the current state of affected objects in the associated CA and make sure all the objects are IN WORK state.  \\n5. Based on the approval, below steps will be processed.\\n5. Change Request > Actions > Set State\\n6. Cancel the Requested CR as required\\nWork Log: Step 1: Accept the ticket and move to In Progress \\nStep 2: Check state of the Change Requests, Asscoiated CN and CA  \\nStep 3: Check with user for the reason for cancelling the CR\\nStep 4:Check the current state of affected objects in the associated CA and make sure all the objects are IN WORK state.\\nStep 5: Based on the approval from business, request can be processed.  \\nStep 6: After completing the request, Inform user and get confirmation\\nFailure Category: Data Management - CR/CN/MCR/MCN - Cancellation\\nResolution Notes: User requested to cancel the Change Request', metadata={'source': 'C:\\\\Users\\\\ASHOKKUMAR KALIAPPAN\\\\Documents\\\\Ashok\\\\MSc_DataAnalytics\\\\Final_Project\\\\Doc\\\\Incident_Management_Steps.csv', 'row': 4}),\n",
       " Document(page_content='INC Number: INC0006\\nDescription: Description of Issue: User wanted to cancel the Change Notice\\nSteps involved: 1. Check if the Change Notice is present in Windchill\\n2. Check the Current state of CN, Associated CR and CA.\\n3. Check with user for the reason for cancelling the CN.\\n4. Check the current state of affected objects in the associated CA and make sure all the objects are IN WORK state.  \\n5. Based on the approval, below steps will be processed.\\n5. Change Notice > Actions > Set State\\n6. Cancel the Requested CN as required\\nWork Log: Step 1: Accept the ticket and move to In Progress \\nStep 2: Check state of the Change Notice, Asscoiated CR and CA  \\nStep 3: Check with user for the reason for cancelling the CN\\nStep 4:Check the current state of affected objects in the associated CA and make sure all the objects are IN WORK state.\\nStep 5: Based on the approval from business, request can be processed.  \\nStep 6: After completing the request, Inform user and get confirmation\\nFailure Category: Data Management - CR/CN/MCR/MCN - Cancellation\\nResolution Notes: User requested to cancel the Change Notice', metadata={'source': 'C:\\\\Users\\\\ASHOKKUMAR KALIAPPAN\\\\Documents\\\\Ashok\\\\MSc_DataAnalytics\\\\Final_Project\\\\Doc\\\\Incident_Management_Steps.csv', 'row': 5}),\n",
       " Document(page_content='INC Number: INC0007\\nDescription: Description of Issue: User wanted to cancel the Change Activity\\nSteps involved: 1. Check if the Change Activity is present in Windchill\\n2. Check the Current state of CA, Associated CR and CN.\\n3. Check with user for the reason for cancelling the CA.\\n4. Check the current state of affected objects in the change activity and make sure all the objects are IN WORK state.  \\n5. Based on the approval, below steps will be processed.\\n5. Change Activity > Actions > Set State\\n6. Cancel the Requested CN as required\\nWork Log: Step 1: Accept the ticket and move to In Progress \\nStep 2: Check state of the Change Activity, Asscoiated CR and CN\\nStep 3: Check with user for the reason for cancelling the CA\\nStep 4:Check the current state of affected objects in the CA and make sure all the objects are IN WORK state.\\nStep 5: Based on the approval from business, request can be processed.  \\nStep 6: After completing the request, Inform user and get confirmation\\nFailure Category: Data Management - CR/CN/MCR/MCN - Cancellation\\nResolution Notes: User requested to cancel the Change Activity', metadata={'source': 'C:\\\\Users\\\\ASHOKKUMAR KALIAPPAN\\\\Documents\\\\Ashok\\\\MSc_DataAnalytics\\\\Final_Project\\\\Doc\\\\Incident_Management_Steps.csv', 'row': 6}),\n",
       " Document(page_content=\"INC Number: INC0008\\nDescription: Description of Issue: PLM Store interface Failure in Change Notice\\nSteps involved: 1. Check the associated Change Activity is in released State\\n2. Check all the resulting objects are in Released state.\\n3. Check if any Admin task is generated in Admin's home page.\\n4. Below steps will be taken accordingly.\\n5. Admin Home page> Tasks > PLM Store Interface Failure>Action>Accept>Complete Task\\nWork Log: Step 1: Accept the ticket and move to In Progress \\nStep 2: Check state of the Change Notice, associated CA and the resulting objects.\\nStep3:  Check if any Admin task is generated in Admin's home page.\\nStep4:  Accept the task and complete it manually\\nStep5: After completing the request, Inform user and get confirmation\\nFailure Category: Engineering Datahub Interface Failure\\nResolution Notes: User requested to resolve the PLM store interface failure\", metadata={'source': 'C:\\\\Users\\\\ASHOKKUMAR KALIAPPAN\\\\Documents\\\\Ashok\\\\MSc_DataAnalytics\\\\Final_Project\\\\Doc\\\\Incident_Management_Steps.csv', 'row': 7}),\n",
       " Document(page_content=\"INC Number: INC0009\\nDescription: Description of Issue: Stamping Failure in CN workflow\\nSteps involved: 1. Check the CN adn Associated CA is in Windchill\\n2. Check the associated Change Activity is in resolved State\\n3. Check the state of all the Resulting objects in the associated Change activity\\n4. Check if any Admin task is generated in Admin's home page.\\n5. Below steps will be taken accordingly.\\n6. Admin Home page> Tasks > \\t\\nStamping Admin-CA00000001>Action>Accept>Complete Task\\nWork Log: Step 1: Accept the ticket and move to In Progress \\nStep 2: Check state of the Change Notice, associated CA and the resulting objects.\\nStep3:  Check if any Admin task is generated in Admin's home page.\\nStep4:  Accept the task and complete it manually\\nStep5: After completing the request, Inform user and get confirmation\\nFailure Category: Publishing/Stamping Related\\nResolution Notes: User requested to resolve the Stamping issue\", metadata={'source': 'C:\\\\Users\\\\ASHOKKUMAR KALIAPPAN\\\\Documents\\\\Ashok\\\\MSc_DataAnalytics\\\\Final_Project\\\\Doc\\\\Incident_Management_Steps.csv', 'row': 8}),\n",
       " Document(page_content='INC Number: INC00010\\nDescription: Description of Issue: CN Workflow got stucked and new task is not getting generated\\nSteps involved: 1.Check the reported CN is in windchill\\n2.Check for the last completed task by naviagating to below location.\\n3. Change Notice>Process>Tasks for change process\\n4. If the last task is completed, go to below location and delete the failure entries.\\n5. Navigator>Site>Utilites>Queue managment(under System administration)>WfPropagationQueue>Delete the failure entries in the queue entries\\nWork Log: Step 1: Accept the ticket and move to In Progress \\nStep 2: Check the reported CN in windchill\\nStep3:  Delete the failed queue entries in Queue management\\nStep4: After completing the above step, confirm that new tasks are generated in below page.\\nChange Notice>Process>Tasks for change process\\nStep5: After completing the request, Inform user and get confirmation\\nFailure Category: Infrastructure – CR/CN/MCR/MCN - Task generation related.\\nResolution Notes: User requested to resolve the task generation issue in CN workflow', metadata={'source': 'C:\\\\Users\\\\ASHOKKUMAR KALIAPPAN\\\\Documents\\\\Ashok\\\\MSc_DataAnalytics\\\\Final_Project\\\\Doc\\\\Incident_Management_Steps.csv', 'row': 9})]"
      ]
     },
     "execution_count": 134,
     "metadata": {},
     "output_type": "execute_result"
    }
   ],
   "source": [
    "## Data Source 3: Production Support Issues & Resolutions (CSV)\n",
    "extracted_data_supportresolution = read_data_from_csv (SOURCE_FILES_PATH + \"Incident_Management_Steps.csv\")\n",
    "extracted_data_supportresolution"
   ]
  },
  {
   "cell_type": "code",
   "execution_count": 135,
   "metadata": {},
   "outputs": [
    {
     "data": {
      "text/plain": [
       "[Document(page_content='Purpose\\n===\\n\\nPurpose - Purpose of this document is to map attributes required for Engineering Interface from Windchill PLM system to Product Datahub system\\n\\nInterface\\\\_Mapping\\n===\\n\\nData Element\\n\\nSr No\\n\\nSource - Windchill PLM\\n\\nMiddleware\\n\\nTarget - Engineering Datahub\\n\\nObject\\n\\nField Name\\n\\nField Description\\n\\nData Type\\n\\nLength\\n\\nMandatory (Y/N)\\n\\nRange values\\n\\nDefault Value\\n\\nRemarks\\n\\nWindchill PayLoad Tag\\n\\nTransformation Required\\n\\nTransformation Rules\\n\\nFunctionality\\n\\nField Description\\n\\nDatatype\\n\\nLength\\n\\nMandatory (Y/N)\\n\\nRange values\\n\\nDefault Value\\n\\nRemarks\\n\\nEngineering Release\\n\\n1\\n\\nChange Notice (CN)\\n\\nNumber\\n\\nNumber\\n\\nAlphanumeric\\n\\n10\\n\\nY\\n\\ncommon.changeNoticeNumber\\n\\nN\\n\\nEngineering Release\\n\\nRelease Number (Change)\\n\\nAlphanumeric\\n\\n10\\n\\nY\\n\\nEngineering Release\\n\\n2\\n\\nDefault to \\'CN\\'\\n\\nengineeringRelease.erType\\n\\nN\\n\\nEngineering Release\\n\\nER Type\\n\\nAlphabetic\\n\\n3\\n\\nY\\n\\nEngineering Release\\n\\n3\\n\\nChange Request (CR) / Change Notice (CN)\\n\\nCreated By\\n\\nCreated By\\n\\nAlpha\\n\\n70\\n\\nY\\n\\nFor single CR associated with CN it should be CR creator as \\'Change Owner\\'\\n\\nif multiple CR\\'s associated with CN then the CR Creator of the oldest CR (based on CR Creation Date) shall be mapped to \\'Change Owner\\'\\n\\nengineeringRelease.migratedFlag\\n\\nengineeringRelease.changeNoticeRequester\\n\\nengineeringRelease.changeRequestCreatedBy\\n\\nengineeringRelease.changeNoticeCreatedBy\\n\\nY\\n\\nIf migratedFlag = \"true\" then set changeNoticeRequester\\n\\nelseIf changeRequestCreatedBy != NULL then set \\'changeRequestCreatedBy\\'\\n\\nelse set \\'changeNoticeCreatedBy\\'\\n\\nEngineering Release\\n\\nChange Owner\\n\\nAlphabetic\\n\\n15\\n\\nY\\n\\nEngineering Release\\n\\n4\\n\\nDefault to \\'PLANT1\\'\\n\\nengineeringRelease.plant\\n\\nN\\n\\nEngineering Release\\n\\nPlant\\n\\nAlphanumeric\\n\\n10\\n\\nY\\n\\nEngineering Release\\n\\n5\\n\\nChange Notice (CN)\\n\\nAdvance Change Number\\n\\nAdvance Change Number\\n\\nString\\n\\n10\\n\\nN\\n\\nengineeringRelease.aca\\n\\nN\\n\\nEngineering Release\\n\\nAdvance Change Number\\n\\nAlphanumeric\\n\\n10\\n\\nN\\n\\nPart / Assembly\\n\\n6\\n\\nChange Notice (CN)\\n\\nNumber\\n\\nNumber\\n\\nAlphanumeric\\n\\n10\\n\\nY\\n\\ncommon.changeNoticeNumber\\n\\nN\\n\\nItem\\n\\nRelease Number\\n\\nAlphanumeric\\n\\n10\\n\\nY\\n\\nPart / Assembly\\n\\n7\\n\\nPart / Assembly\\n\\nPart Number\\n\\nPart Number\\n\\nAlphanumeric\\n\\n40\\n\\nY\\n\\nitems.partNumber\\n\\nN\\n\\nItem\\n\\nItem Number\\n\\nAlphanumeric\\n\\n14\\n\\nY\\n\\nPart / Assembly\\n\\n8\\n\\nPart / Assembly\\n\\nPart Org\\n\\nPart Org\\n\\nString\\n\\n500\\n\\nY\\n\\nitems.partOrg\\n\\nN\\n\\nItem\\n\\nPart Org\\n\\nNumeric\\n\\n20\\n\\nY\\n\\nPart / Assembly\\n\\n9\\n\\nPart / Assembly\\n\\nPart Type\\n\\nPart Type\\n\\nString\\n\\n500\\n\\nY\\n\\nitems.partType\\n\\nN\\n\\nItem\\n\\nPart Type\\n\\nAlphanumeric\\n\\n20\\n\\nY\\n\\nPart / Assembly\\n\\n10\\n\\nPart / Assembly\\n\\nPart Name\\n\\nPart Name\\n\\nString\\n\\n500\\n\\nY\\n\\nitems.partName\\n\\nN\\n\\nItem\\n\\nPart Description\\n\\nAlphanumeric\\n\\n25\\n\\nY\\n\\nPart / Assembly\\n\\n11\\n\\nPart / Assembly\\n\\nRevision\\n\\nRevision\\n\\nString\\n\\n2\\n\\nY\\n\\nitem.partRevision\\n\\nN\\n\\nItem\\n\\nRevision\\n\\nNumeric\\n\\n3\\n\\nY\\n\\nPart / Assembly\\n\\n12\\n\\nPart / Assembly\\n\\nPart Use\\n\\nPart Use\\n\\nString\\n\\n4000\\n\\nY\\n\\nProduction\\n\\nProduction and Service\\n\\nService\\n\\nitems.partUse\\n\\nY\\n\\nPlease refer sheet \\'Part Use\\'\\n\\nItem\\n\\nPart Use Code\\n\\nNumeric\\n\\n2\\n\\nY\\n\\n1,2,3\\n\\nPart / Assembly\\n\\n13\\n\\nPart / Assembly\\n\\nMaturity\\n\\nMaturity\\n\\nString\\n\\n4000\\n\\nY\\n\\nConcept\\n\\nDevelopment\\n\\nLimited\\n\\nProduction\\n\\nitems.partMaturity\\n\\nY\\n\\nPlease refer sheet \\'Part Maturity\\'\\n\\nItem\\n\\nPart Maturity Code\\n\\nAlphanumeric\\n\\n1\\n\\nY\\n\\nC,D,L,P\\n\\nPart / Assembly\\n\\n14\\n\\nAffected Activity Data\\n\\n(this is relationship attribute on CA - Part)\\n\\nInventory Disposition\\n\\nInventory Disposition\\n\\nString\\n\\n200\\n\\nN\\n\\nUse Existing\\n\\nRework\\n\\nScrap\\n\\nitems.inventoryDisposition\\n\\nY\\n\\nPlease refer sheet \\'Inventory Disposition\\'\\n\\nItem\\n\\nInventory Disposition Code\\n\\nAlphanumeric\\n\\n1\\n\\nY\\n\\nU,R,S\\n\\nPart / Assembly\\n\\n15\\n\\nitems.designFlag\\n\\nN\\n\\nItem\\n\\nDesign\\n\\nAlphanumeric\\n\\n1\\n\\nN\\n\\nPart / Assembly\\n\\n16\\n\\nitems.rfcCode\\n\\nN\\n\\nItem\\n\\nRFC\\n\\nAlphabetic\\n\\n1\\n\\nY\\n\\nPart / Assembly\\n\\n17\\n\\nPart / Assembly\\n\\nSource\\n\\nSource\\n\\nString\\n\\n500\\n\\nN\\n\\nitems.source\\n\\nY\\n\\nItem\\n\\nSource\\n\\nAlphanumeric\\n\\n126\\n\\nN\\n\\nBOM Structure\\n\\n18\\n\\nChange Notice (CN)\\n\\nNumber\\n\\nNumber\\n\\nAlphanumeric\\n\\n10\\n\\nY\\n\\ncommon.changeNoticeNumber\\n\\nN\\n\\nOmit Records needs to be processed first dollowed by Add records\\n\\nStructure(BOM)\\n\\nRelease Number (Change)\\n\\nAlphanumeric\\n\\n10\\n\\nY\\n\\nBOM Structure\\n\\n19\\n\\nPart Usage\\n\\nParent Part Number\\n\\nPart Number\\n\\nAlphanumeric\\n\\n40\\n\\nY\\n\\nstructures.parentPartNumber\\n\\nN\\n\\nStructure(BOM)\\n\\nParent Item Number\\n\\nAlphanumeric\\n\\n14\\n\\nY\\n\\nBOM Structure\\n\\n20\\n\\nPart Usage\\n\\nChild Part Number\\n\\nPart Number\\n\\nAlphanumeric\\n\\n40\\n\\nY\\n\\nstructures.childPartNumber\\n\\nN\\n\\nStructure(BOM)\\n\\nChild Item Number\\n\\nAlphanumeric\\n\\n14\\n\\nY\\n\\nBOM Structure\\n\\n21\\n\\nPart Usage\\n\\nQuantity\\n\\nQuantity\\n\\nDouble\\n\\n\\\\-1.E100 to 1.E100\\n\\nY\\n\\nstructures.quantity\\n\\nN\\n\\nStructure(BOM)\\n\\nQuantity\\n\\nNumeric\\n\\n3\\n\\nY\\n\\nBOM Structure\\n\\n22\\n\\nPart Usage\\n\\nKit\\n\\nKit\\n\\nString\\n\\n4000\\n\\nN\\n\\nBox\\n\\nLoose\\n\\nStandard\\n\\nstructures.kit\\n\\nY\\n\\nPlease refer sheet \\'Kit Code\\'\\n\\nStructure(BOM)\\n\\nKit Code\\n\\nNumeric\\n\\n1\\n\\nN\\n\\n1,2,3\\n\\nBOM Structure\\n\\n23\\n\\nstructures.mandatoryOption\\n\\nN\\n\\nStructure(BOM)\\n\\nMandatory Indicator\\n\\nAlphanumeric\\n\\n1\\n\\nN\\n\\nBOM Structure\\n\\n24\\n\\nSet it as \\'A\\' - if new Child Component is added\\n\\nSet it as \\'O\\' - if the existing Child Component is removed\\n\\nSet it as \\'C\\' - if the existing Child Component (BOM attributes) is modified\\n\\nstructures.typeOfChange\\n\\nN\\n\\nAfter transformation order the records in the order O,C and A\\n\\nStructure(BOM)\\n\\nType of change\\n\\nAlphabetic\\n\\n1\\n\\nY\\n\\nA, O, C\\n\\nPart / Assembly Drawing\\n\\n25\\n\\nChange Notice (CN)\\n\\nNumber\\n\\nNumber\\n\\nAlphanumeric\\n\\n10\\n\\nY\\n\\ncommon.changeNoticeNumber\\n\\nN\\n\\nReference Drawing\\n\\nRelease Number (Change)\\n\\nAlphanumeric\\n\\n10\\n\\nY\\n\\nPart / Assembly Drawing\\n\\n26\\n\\nPart / Assembly Drawing\\n\\nNumber\\n\\nPart Number\\n\\nAlphanumeric\\n\\n40\\n\\nY\\n\\nreferenceDrawings.drawingNumber\\n\\nN\\n\\nReference Drawing\\n\\nDrawing Number\\n\\nAlphanumeric\\n\\n14\\n\\nY\\n\\nPart / Assembly Drawing\\n\\n27\\n\\nPart / Assembly Drawing\\n\\nRevision\\n\\nRevision\\n\\nAlphanumeric\\n\\n40\\n\\nY\\n\\nreferenceDrawings.drawingRevision\\n\\nN\\n\\nReference Drawing\\n\\nDrawing Revision\\n\\nAlphanumeric\\n\\n14\\n\\nY\\n\\nPart / Assembly Drawing\\n\\n28\\n\\nDefault to \\'S\\'\\n\\nreferenceDrawings.drawingType\\n\\nN\\n\\nReference Drawing\\n\\nDrawing Type\\n\\nAlphanumeric\\n\\n1\\n\\nY\\n\\nEngineering Specification Document\\n\\n29\\n\\nChange Notice (CN)\\n\\nNumber\\n\\nNumber\\n\\nAlphanumeric\\n\\n10\\n\\nY\\n\\ncommon.changeNoticeNumber\\n\\nN\\n\\nEngineering Standard\\n\\nRelease Number (Change)\\n\\nAlphanumeric\\n\\n10\\n\\nY\\n\\nEngineering Specification Document\\n\\n30\\n\\nEngineering Specification Document\\n\\nNumber\\n\\nNumber\\n\\nAlphanumeric\\n\\n10\\n\\nY\\n\\nengineeringSpecifications.engineeringSpecificationNumber\\n\\nN\\n\\nEngineering Standard\\n\\nEngineering Document Number\\n\\nAlphanumeric\\n\\n11\\n\\nY\\n\\nEngineering Specification Document\\n\\n31\\n\\nEngineering Specification Document\\n\\nRevision\\n\\nNumber\\n\\nAlphanumeric\\n\\n10\\n\\nY\\n\\nengineeringSpecifications.engineeringSpecificationRevision\\n\\nN\\n\\nEngineering Standard\\n\\nEngineering Document Number\\n\\nAlphanumeric\\n\\n11\\n\\nY\\n')]"
      ]
     },
     "execution_count": 135,
     "metadata": {},
     "output_type": "execute_result"
    }
   ],
   "source": [
    "## Read Data Source 4: Interface Mapping Sheet (XLSX)\n",
    "extracted_data_interfacemapping = read_data_from_msdocs (SOURCE_FILES_PATH + \"Engineering_Datahub_Interface_Mapping_Document.xlsx\")\n",
    "extracted_data_interfacemapping"
   ]
  },
  {
   "cell_type": "code",
   "execution_count": 136,
   "metadata": {},
   "outputs": [
    {
     "data": {
      "text/plain": [
       "[Document(page_content='Engineering Datahub Interface\\n===\\n\\nSolution Architecture, Failure Modes and Error Handling\\n===\\n\\nInterface Solution Architecture\\n===\\n\\nMiddleware\\n\\nEngineering Datahub\\n\\nTransform the data and publish to target system\\n\\nProcess and update CN details\\n\\nWindchill\\n\\nCN Audit Task Completion\\n\\nInterface Process Steps:\\n\\nWindchill will extract and publish Change Notice details to Middleware upon CN Audit Task Completion\\n\\nMiddleware will Transform the CN data based on transformation rules and publish to Engineering Datahub system\\n\\nEngineering Datahub system will process the CN details and send the processing status (Success or Failure) to Middleware\\n\\nMiddleware will further publish the processing status (Success or Failure) to Windchill PLM system\\n\\nWindchill will process the response and Release CN if the processing status is Success or create Interface Failure Task if the processing status is Failure\\n\\n1\\n\\nJSON: Change Notice details\\n\\n2\\n\\nProcess and publish the CN processing status to Windchill\\n\\n3\\n\\nJSON: CN Processing Status\\n\\n4\\n\\nJSON: CN Processing Status\\n\\nResponse Service\\n\\nSuccess: Release CN\\n\\nFailure: Create Failure Task\\n\\nData processing service\\n\\nJSON: Change Notice details\\n\\nProcess and Update the Response\\n\\n5\\n')]"
      ]
     },
     "execution_count": 136,
     "metadata": {},
     "output_type": "execute_result"
    }
   ],
   "source": [
    "## Data Source 5: Interface Architecture, Failure Modes & Error Handling Mechanism (PPTX)\n",
    "extracted_data_archdata = read_data_from_msdocs (SOURCE_FILES_PATH + \"Engineering_Datahub_InterfaceArchitecture_FailureMode_ErrorHandling.pptx\")\n",
    "extracted_data_archdata"
   ]
  },
  {
   "cell_type": "markdown",
   "metadata": {},
   "source": [
    "### Step 2: Data Cleansing"
   ]
  },
  {
   "cell_type": "code",
   "execution_count": 57,
   "metadata": {},
   "outputs": [],
   "source": [
    "## Function to clean data\n",
    "def clean_pdf():\n",
    "    ## convert to lowercase, lammatization, remove stop words and special chars (regex) (POS / Named Entity Recognition)\n",
    "    \n",
    "    return "
   ]
  },
  {
   "cell_type": "markdown",
   "metadata": {},
   "source": [
    "### Step 3: Split Data into Chunks"
   ]
  },
  {
   "cell_type": "code",
   "execution_count": 137,
   "metadata": {},
   "outputs": [],
   "source": [
    "## Function to split document into chunks\n",
    "def chunk_data(docs,CHUNK_SIZE,CHUNK_OVERLAP):\n",
    "    text_splitter=RecursiveCharacterTextSplitter(chunk_size=CHUNK_SIZE,chunk_overlap=CHUNK_OVERLAP)\n",
    "    doc=text_splitter.split_documents(docs)\n",
    "    return doc"
   ]
  },
  {
   "cell_type": "code",
   "execution_count": 147,
   "metadata": {},
   "outputs": [
    {
     "data": {
      "text/plain": [
       "107"
      ]
     },
     "execution_count": 147,
     "metadata": {},
     "output_type": "execute_result"
    }
   ],
   "source": [
    "## Chunk Interface FSD\n",
    "documents_fsd=chunk_data(extracted_data_fsd,500,50)\n",
    "len(documents_fsd)"
   ]
  },
  {
   "cell_type": "code",
   "execution_count": 149,
   "metadata": {},
   "outputs": [
    {
     "data": {
      "text/plain": [
       "3"
      ]
     },
     "execution_count": 149,
     "metadata": {},
     "output_type": "execute_result"
    }
   ],
   "source": [
    "## Chunk Interface Flow\n",
    "documents_interfaceflow=chunk_data(extracted_data_interfaceflow,500,50)\n",
    "len(documents_interfaceflow)"
   ]
  },
  {
   "cell_type": "code",
   "execution_count": 150,
   "metadata": {},
   "outputs": [
    {
     "data": {
      "text/plain": [
       "31"
      ]
     },
     "execution_count": 150,
     "metadata": {},
     "output_type": "execute_result"
    }
   ],
   "source": [
    "## Chunk Incident Resolution\n",
    "documents_supportresolution=chunk_data(extracted_data_supportresolution,500,50)\n",
    "len(documents_supportresolution)"
   ]
  },
  {
   "cell_type": "code",
   "execution_count": 151,
   "metadata": {},
   "outputs": [
    {
     "data": {
      "text/plain": [
       "15"
      ]
     },
     "execution_count": 151,
     "metadata": {},
     "output_type": "execute_result"
    }
   ],
   "source": [
    "## Chunk Interface Mapping\n",
    "documents_mapping=chunk_data(extracted_data_interfacemapping,500,50)\n",
    "len(documents_mapping)"
   ]
  },
  {
   "cell_type": "code",
   "execution_count": 152,
   "metadata": {},
   "outputs": [
    {
     "data": {
      "text/plain": [
       "3"
      ]
     },
     "execution_count": 152,
     "metadata": {},
     "output_type": "execute_result"
    }
   ],
   "source": [
    "## Chunk Architecture Details\n",
    "documents_archdata=chunk_data(extracted_data_archdata,500,50)\n",
    "len(documents_archdata)"
   ]
  },
  {
   "cell_type": "markdown",
   "metadata": {},
   "source": [
    "### Step 4: Embeddings: Convert Chunks to Vectors and Store in Vector DB"
   ]
  },
  {
   "cell_type": "code",
   "execution_count": 142,
   "metadata": {},
   "outputs": [
    {
     "data": {
      "text/plain": [
       "OpenAIEmbeddings(client=<openai.resources.embeddings.Embeddings object at 0x000002009622B370>, async_client=<openai.resources.embeddings.AsyncEmbeddings object at 0x0000020096233100>, model='text-embedding-ada-002', dimensions=None, deployment='text-embedding-ada-002', openai_api_version='', openai_api_base=None, openai_api_type='', openai_proxy='', embedding_ctx_length=8191, openai_api_key=SecretStr('**********'), openai_organization=None, allowed_special=None, disallowed_special=None, chunk_size=1000, max_retries=2, request_timeout=None, headers=None, tiktoken_enabled=True, tiktoken_model_name=None, show_progress_bar=False, model_kwargs={}, skip_empty=False, default_headers=None, default_query=None, retry_min_seconds=4, retry_max_seconds=20, http_client=None, http_async_client=None, check_embedding_ctx_length=True)"
      ]
     },
     "execution_count": 142,
     "metadata": {},
     "output_type": "execute_result"
    }
   ],
   "source": [
    "## Embedding using OpenAI - model='text-embedding-ada-002'\n",
    "embeddings = OpenAIEmbeddings(api_key=OPENAI_KEY)\n",
    "embeddings"
   ]
  },
  {
   "cell_type": "code",
   "execution_count": 143,
   "metadata": {},
   "outputs": [
    {
     "data": {
      "text/plain": [
       "1536"
      ]
     },
     "execution_count": 143,
     "metadata": {},
     "output_type": "execute_result"
    }
   ],
   "source": [
    "## Get the vector size / diemnsion of the embedding\n",
    "vector_size = embeddings.embed_query(\"This is a test sentence.\")\n",
    "\n",
    "len(vector_size)"
   ]
  },
  {
   "cell_type": "code",
   "execution_count": 145,
   "metadata": {},
   "outputs": [],
   "source": [
    "## Pinecone VectorDB initiation, prior to this created pinecone with dimension = 1536\n",
    "pc = Pinecone(api_key=PINECONE_API_KEY)\n",
    "index=pc.Index(PINECONE_INDEX)"
   ]
  },
  {
   "cell_type": "code",
   "execution_count": 148,
   "metadata": {},
   "outputs": [],
   "source": [
    "## Create embeddings for Interface FSD (Data Source 1)\n",
    "pinecone_index = PineconeVectorStore.from_documents(documents_fsd, embeddings, index_name=PINECONE_INDEX)"
   ]
  },
  {
   "cell_type": "code",
   "execution_count": 153,
   "metadata": {},
   "outputs": [],
   "source": [
    "## Create embeddings for Interface Flow Diagram (Data Source 2)\n",
    "pinecone_index = PineconeVectorStore.from_documents(documents_interfaceflow, embeddings, index_name=PINECONE_INDEX)"
   ]
  },
  {
   "cell_type": "code",
   "execution_count": 154,
   "metadata": {},
   "outputs": [],
   "source": [
    "## Create embeddings for Support Ticket Resolution (Data Source 3)\n",
    "pinecone_index = PineconeVectorStore.from_documents(documents_supportresolution, embeddings, index_name=PINECONE_INDEX)"
   ]
  },
  {
   "cell_type": "code",
   "execution_count": 155,
   "metadata": {},
   "outputs": [],
   "source": [
    "## Create embeddings for Interface Mapping (Data Source 4)\n",
    "pinecone_index = PineconeVectorStore.from_documents(extracted_data_interfacemapping, embeddings, index_name=PINECONE_INDEX)"
   ]
  },
  {
   "cell_type": "code",
   "execution_count": 156,
   "metadata": {},
   "outputs": [],
   "source": [
    "## Create embeddings for Interface Arch Data (Data Source 5)\n",
    "pinecone_index = PineconeVectorStore.from_documents(documents_archdata, embeddings, index_name=PINECONE_INDEX)"
   ]
  },
  {
   "cell_type": "markdown",
   "metadata": {},
   "source": [
    "### Step 5: RAG Implementation - Leverage Open AI Model, take input query from user & retrieve similar vectors from Vector DB, pass query + similar vectors to get the response"
   ]
  },
  {
   "cell_type": "code",
   "execution_count": 157,
   "metadata": {},
   "outputs": [],
   "source": [
    "# Prompt Template\n",
    "\n",
    "prompt=ChatPromptTemplate.from_messages(\n",
    "    [\n",
    "        (\"system\",\"You are a helpful support assistant. Please respond to the IT application support executive queries\"),\n",
    "        (\"user\",\"Question:{question}\")\n",
    "    ]\n",
    ")"
   ]
  },
  {
   "cell_type": "code",
   "execution_count": 158,
   "metadata": {},
   "outputs": [],
   "source": [
    "## Cosine Similarity Retreive Results from Pinecone VectorDB\n",
    "def retrieve_query(query,k=5):\n",
    "    matching_results=pinecone_index.similarity_search(query,k=k)\n",
    "    return matching_results"
   ]
  },
  {
   "cell_type": "code",
   "execution_count": 171,
   "metadata": {},
   "outputs": [],
   "source": [
    "## OpenAI Model - gpt-3.5-turbo and chain creation\n",
    "llm=ChatOpenAI(openai_api_key=OPENAI_KEY,model_name=\"gpt-3.5-turbo\", temperature=0.5)\n",
    "chain=load_qa_chain(llm,chain_type=\"stuff\")\n",
    "#question_answer_chain = create_stuff_documents_chain(llm, prompt)\n",
    "#rag_chain = create_retrieval_chain(retriever, question_answer_chain)"
   ]
  },
  {
   "cell_type": "code",
   "execution_count": 172,
   "metadata": {},
   "outputs": [],
   "source": [
    "## Search answers for the user query\n",
    "def retrieve_answers(query):\n",
    "    doc_search=retrieve_query(query)\n",
    "    response=chain.run(input_documents=doc_search,question=query)\n",
    "    return response"
   ]
  },
  {
   "cell_type": "code",
   "execution_count": 173,
   "metadata": {},
   "outputs": [
    {
     "name": "stdout",
     "output_type": "stream",
     "text": [
      "The Engineering Datahub Interface Trigger is the Change Notice Audit Task Completion.\n"
     ]
    }
   ],
   "source": [
    "user_query = \"What is Engineering Datahub Interface Trigger?\"\n",
    "answer = retrieve_answers(user_query)\n",
    "print(answer)"
   ]
  },
  {
   "cell_type": "code",
   "execution_count": 162,
   "metadata": {},
   "outputs": [
    {
     "name": "stdout",
     "output_type": "stream",
     "text": [
      "The data elements extracted from Change Notice are:\n",
      "1. Part\n",
      "2. Assembly\n",
      "3. Part/Assembly Drawing\n",
      "4. Engineering Specification Document\n"
     ]
    }
   ],
   "source": [
    "user_query = \"What are the data elements extracted from Change Notice?\"\n",
    "answer = retrieve_answers(user_query)\n",
    "print(answer)"
   ]
  },
  {
   "cell_type": "code",
   "execution_count": 163,
   "metadata": {},
   "outputs": [
    {
     "name": "stdout",
     "output_type": "stream",
     "text": [
      "The pre-validations of the Engineering Datahub Interface include CA validations and Engineering Datahub interface pre-validations.\n"
     ]
    }
   ],
   "source": [
    "user_query = \"What are the pre-validations of Engineering Datahub Interface?\"\n",
    "answer = retrieve_answers(user_query)\n",
    "print(answer)"
   ]
  },
  {
   "cell_type": "code",
   "execution_count": 164,
   "metadata": {},
   "outputs": [
    {
     "name": "stdout",
     "output_type": "stream",
     "text": [
      "I don't have specific information on the middleware transformation rules for the 'Part Maturity' attribute in the Engineering Datahub Interface based on the provided context.\n"
     ]
    }
   ],
   "source": [
    "user_query = \"What is the middleware transforamtion rules for 'Part Maturity' attribute in Engineering Datahub Interface?\"\n",
    "answer = retrieve_answers(user_query)\n",
    "print(answer)"
   ]
  },
  {
   "cell_type": "code",
   "execution_count": 165,
   "metadata": {},
   "outputs": [
    {
     "name": "stdout",
     "output_type": "stream",
     "text": [
      "The steps involved in resolving Engineering Datahub Interface failure typically include:\n",
      "\n",
      "1. Conducting a failure analysis to identify the root cause of the interface failure.\n",
      "2. Taking necessary steps to address the identified issue or error that caused the failure.\n",
      "3. Re-triggering the Engineering Datahub interface to attempt to successfully transfer the data.\n",
      "4. Seeking updates on the resolution from the Windchill Production Support Team.\n",
      "\n",
      "Please note that these steps may vary depending on the specific nature of the interface failure.\n"
     ]
    }
   ],
   "source": [
    "user_query = \"What are the steps involved in resolving Engineering Datahub Interface failure?\"\n",
    "answer = retrieve_answers(user_query)\n",
    "print(answer)"
   ]
  },
  {
   "cell_type": "code",
   "execution_count": 166,
   "metadata": {},
   "outputs": [
    {
     "name": "stdout",
     "output_type": "stream",
     "text": [
      "The failure modes of the Engineering Datahub Interface can include middleware failures, interface failures, and any other issues that prevent the successful processing of information sent by Windchill. These failures can result in the need for the Windchill Production Support Team to analyze and resolve the issue before re-triggering the Engineering Datahub interface.\n"
     ]
    }
   ],
   "source": [
    "user_query = \"What are the failure modes of Engineering Datahub Interface?\"\n",
    "answer = retrieve_answers(user_query)\n",
    "print(answer)"
   ]
  },
  {
   "cell_type": "code",
   "execution_count": 167,
   "metadata": {},
   "outputs": [
    {
     "name": "stdout",
     "output_type": "stream",
     "text": [
      "Based on the provided information, the process steps of the Engineering Datahub Interface include:\n",
      "\n",
      "1. Creation of a Change Notice Interface Failure Task\n",
      "2. Update Change Notice Details in the Engineering Datahub system\n",
      "3. Promotion of Change Notice to Resolved State\n",
      "4. Promotion of Resulting objects to Target State (Released / Obsolete)\n",
      "5. Extraction of data elements such as Engineering Release, Part / Assembly, BOM Structure, Part / Assembly Drawing, and Engineering Specification Document\n",
      "6. Promotion of Part to Released state and extraction of data in JSON format file with Engineering Release and Item tags\n",
      "\n",
      "These steps involve tasks related to change notices, data extraction, and promotion of objects within the Engineering Datahub Interface process flow.\n"
     ]
    }
   ],
   "source": [
    "user_query = \"What are the process steps of Engineering Datahub Interface?\"\n",
    "answer = retrieve_answers(user_query)\n",
    "print(answer)"
   ]
  },
  {
   "cell_type": "markdown",
   "metadata": {},
   "source": [
    "### Step 6: Chat UI enablement through streamlit"
   ]
  },
  {
   "cell_type": "code",
   "execution_count": null,
   "metadata": {},
   "outputs": [],
   "source": []
  }
 ],
 "metadata": {
  "kernelspec": {
   "display_name": "Python 3",
   "language": "python",
   "name": "python3"
  },
  "language_info": {
   "codemirror_mode": {
    "name": "ipython",
    "version": 3
   },
   "file_extension": ".py",
   "mimetype": "text/x-python",
   "name": "python",
   "nbconvert_exporter": "python",
   "pygments_lexer": "ipython3",
   "version": "3.9.19"
  }
 },
 "nbformat": 4,
 "nbformat_minor": 2
}
